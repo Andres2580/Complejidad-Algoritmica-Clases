{
  "nbformat": 4,
  "nbformat_minor": 0,
  "metadata": {
    "colab": {
      "provenance": [],
      "authorship_tag": "ABX9TyN5fykPP+LGIFjKfxLQDygh",
      "include_colab_link": true
    },
    "kernelspec": {
      "name": "python3",
      "display_name": "Python 3"
    },
    "language_info": {
      "name": "python"
    }
  },
  "cells": [
    {
      "cell_type": "markdown",
      "metadata": {
        "id": "view-in-github",
        "colab_type": "text"
      },
      "source": [
        "<a href=\"https://colab.research.google.com/github/Andres2580/Complejidad-Algoritmica-Clases/blob/main/semana2.ipynb\" target=\"_parent\"><img src=\"https://colab.research.google.com/assets/colab-badge.svg\" alt=\"Open In Colab\"/></a>"
      ]
    },
    {
      "cell_type": "code",
      "source": [
        "import numpy as np #arreglos bidimensionales"
      ],
      "metadata": {
        "id": "upZ2B-cfKwHv"
      },
      "execution_count": null,
      "outputs": []
    },
    {
      "cell_type": "code",
      "source": [
        "%%file 1.txt\n",
        "1 2 3 4 5 6 7 8 9\n",
        "4 5 6 7 8 9 1 2 3\n",
        "7 8 9 1 2 3 4 5 6\n",
        "2 3 4 5 6 7 8 9 1\n",
        "5 6 7 8 9 1 2 3 4\n",
        "8 9 1 2 3 4 5 6 7\n",
        "3 4 5 6 7 8 9 1 2\n",
        "6 7 8 9 1 2 3 4 5\n",
        "9 1 2 3 4 5 6 7 8\n"
      ],
      "metadata": {
        "colab": {
          "base_uri": "https://localhost:8080/"
        },
        "id": "-XlDN8V63O7k",
        "outputId": "c003766f-b4ee-48c5-d3c2-0c93a00aa247"
      },
      "execution_count": 21,
      "outputs": [
        {
          "output_type": "stream",
          "name": "stdout",
          "text": [
            "Overwriting 1.txt\n"
          ]
        }
      ]
    },
    {
      "cell_type": "code",
      "source": [
        "#tablero\n",
        "board = np.loadtxt(\"1.txt\", dtype=int)\n",
        "print(board)"
      ],
      "metadata": {
        "id": "8RsuIXdj5KcS",
        "colab": {
          "base_uri": "https://localhost:8080/"
        },
        "outputId": "d366d5dc-a190-4fbb-eba7-3d5f2681ec28"
      },
      "execution_count": 22,
      "outputs": [
        {
          "output_type": "stream",
          "name": "stdout",
          "text": [
            "[[1 2 3 4 5 6 7 8 9]\n",
            " [4 5 6 7 8 9 1 2 3]\n",
            " [7 8 9 1 2 3 4 5 6]\n",
            " [2 3 4 5 6 7 8 9 1]\n",
            " [5 6 7 8 9 1 2 3 4]\n",
            " [8 9 1 2 3 4 5 6 7]\n",
            " [3 4 5 6 7 8 9 1 2]\n",
            " [6 7 8 9 1 2 3 4 5]\n",
            " [9 1 2 3 4 5 6 7 8]]\n"
          ]
        }
      ]
    },
    {
      "cell_type": "markdown",
      "source": [
        "Todas las filas de nuestro tablero estan bien\n",
        "Del 1 al N sin repetir"
      ],
      "metadata": {
        "id": "QV9XZBg-HqR1"
      }
    },
    {
      "cell_type": "code",
      "source": [
        "\n",
        "def checkVec(vec):#linea\n",
        "    n = len(vec)#determinar el tamaño de este vector\n",
        "    count = [0]*n#luego verificar que todos los numeros en ese vector sean distintos / n -> cantidad de elemntos\n",
        "    for e in vec:\n",
        "        if count[e - 1] > 0:\n",
        "            return False\n",
        "        count[e - 1] += 1\n",
        "    return True\n",
        "\n",
        "def checkSudoku(board):\n",
        "    n = len(board)\n",
        "    for i in range(n):\n",
        "        if not checkVec(board[i]): #verificamos cada fila de nuestro tablero la fila i\n",
        "                return False\n",
        "    return True\n",
        "\n",
        "checkSudoku(board)"
      ],
      "metadata": {
        "colab": {
          "base_uri": "https://localhost:8080/"
        },
        "id": "UX6SD-0FFSEr",
        "outputId": "9f26efa9-04c6-44ae-da9b-dfc21f0837c5"
      },
      "execution_count": 9,
      "outputs": [
        {
          "output_type": "execute_result",
          "data": {
            "text/plain": [
              "True"
            ]
          },
          "metadata": {},
          "execution_count": 9
        }
      ]
    },
    {
      "cell_type": "code",
      "source": [
        "a = np.array([[1,2],[3,4]])\n",
        "print(a)\n",
        "print(a.reshape((4)))"
      ],
      "metadata": {
        "colab": {
          "base_uri": "https://localhost:8080/"
        },
        "id": "nKhVMNjpJYLr",
        "outputId": "f4c7eadb-f662-4de6-82db-3b792c380906"
      },
      "execution_count": 14,
      "outputs": [
        {
          "output_type": "stream",
          "name": "stdout",
          "text": [
            "[[1 2]\n",
            " [3 4]]\n",
            "[1 2 3 4]\n"
          ]
        }
      ]
    },
    {
      "cell_type": "code",
      "source": [
        "\n",
        "def checkVec(vec):\n",
        "    n = len(vec)\n",
        "    count = [0]*n\n",
        "    for e in vec:\n",
        "        if count[e - 1] > 0:\n",
        "            return False\n",
        "        count[e - 1] += 1\n",
        "    return True\n",
        "\n",
        "def checkSudoku(board):\n",
        "    n = len(board)\n",
        "    for i in range(n):\n",
        "        if not (checkVec(board[i])\n",
        "        and checkVec(board[:, i])):#las columnas / quiero coger solamente la columna i\n",
        "            return False\n",
        "    m = int(n**0.5)#la raiz cuadrada\n",
        "    for f in range(m):\n",
        "        for c in range(m):\n",
        "            print(board[f*m:(f+1)*m, c*m:(c+1)*m])\n",
        "    return True\n",
        "checkSudoku(board)"
      ],
      "metadata": {
        "colab": {
          "base_uri": "https://localhost:8080/"
        },
        "id": "tho6110FIDfP",
        "outputId": "d8a5dd2c-e59b-401a-f281-8bf3e1849a6b"
      },
      "execution_count": 15,
      "outputs": [
        {
          "output_type": "stream",
          "name": "stdout",
          "text": [
            "[[1 2 3]\n",
            " [4 5 6]\n",
            " [7 8 9]]\n",
            "[[4 5 6]\n",
            " [7 8 9]\n",
            " [1 2 3]]\n",
            "[[7 8 9]\n",
            " [1 2 3]\n",
            " [4 5 6]]\n",
            "[[2 3 4]\n",
            " [5 6 7]\n",
            " [8 9 1]]\n",
            "[[5 6 7]\n",
            " [8 9 1]\n",
            " [2 3 4]]\n",
            "[[8 9 1]\n",
            " [2 3 4]\n",
            " [5 6 7]]\n",
            "[[3 4 5]\n",
            " [6 7 8]\n",
            " [9 1 2]]\n",
            "[[6 7 8]\n",
            " [9 1 2]\n",
            " [3 4 5]]\n",
            "[[9 1 2]\n",
            " [3 4 5]\n",
            " [6 7 8]]\n"
          ]
        },
        {
          "output_type": "execute_result",
          "data": {
            "text/plain": [
              "True"
            ]
          },
          "metadata": {},
          "execution_count": 15
        }
      ]
    },
    {
      "cell_type": "code",
      "source": [
        "\n",
        "def checkVec(vec):\n",
        "    n = len(vec)\n",
        "    count = [0]*n\n",
        "    for e in vec:\n",
        "        if count[e - 1] > 0:\n",
        "            return False\n",
        "        count[e - 1] += 1\n",
        "    return True\n",
        "\n",
        "def checkSudoku(board):\n",
        "    n = len(board)\n",
        "    for i in range(n):\n",
        "        if not (checkVec(board[i]) and checkVec(board[:, i])):\n",
        "            return False\n",
        "    m = int(n**0.5)\n",
        "    for f in range(m):\n",
        "        for c in range(m):\n",
        "            if not checkVec(board[f*m:(f+1)*m, c*m:(c+1)*m].reshape((n))):\n",
        "                return False\n",
        "    return True"
      ],
      "metadata": {
        "id": "VurAm092LSxO"
      },
      "execution_count": 16,
      "outputs": []
    },
    {
      "cell_type": "code",
      "source": [
        "checkSudoku(board)"
      ],
      "metadata": {
        "colab": {
          "base_uri": "https://localhost:8080/"
        },
        "id": "jOfaaMxJMEFI",
        "outputId": "494dad5f-cddd-4922-fd90-0d26df0c2f05"
      },
      "execution_count": 23,
      "outputs": [
        {
          "output_type": "execute_result",
          "data": {
            "text/plain": [
              "True"
            ]
          },
          "metadata": {},
          "execution_count": 23
        }
      ]
    },
    {
      "cell_type": "markdown",
      "source": [
        "BACKTRACKING\n"
      ],
      "metadata": {
        "id": "JdtgVJvwhE88"
      }
    },
    {
      "cell_type": "code",
      "source": [
        "import matplotlib.pyplot as plt #graficar el tablero\n",
        "import numpy as np"
      ],
      "metadata": {
        "id": "XszWuFe_hK9Q"
      },
      "execution_count": 24,
      "outputs": []
    },
    {
      "cell_type": "code",
      "source": [
        "def showBoard(board: list):\n",
        "    n = len(board)#numero de filas que tiene este tablero\n",
        "    b = np.zeros((n, n), dtype=int)#matriz nxn\n",
        "    plt.imshow(b)\n",
        "    plt.axis(\"off\")#\n",
        "\n",
        "showBoard([1, 3, 0, 2])"
      ],
      "metadata": {
        "colab": {
          "base_uri": "https://localhost:8080/",
          "height": 406
        },
        "id": "bmCj-H1NhYzY",
        "outputId": "26005d80-118b-47a1-91f3-8d6186635390"
      },
      "execution_count": 28,
      "outputs": [
        {
          "output_type": "display_data",
          "data": {
            "text/plain": [
              "<Figure size 640x480 with 1 Axes>"
            ],
            "image/png": "[encoded data removed]"
          },
          "metadata": {}
        }
      ]
    },
    {
      "cell_type": "code",
      "source": [
        "def showBoard(board: list):\n",
        "    n = len(board)#numero de filas que tiene este tablero\n",
        "    b = np.zeros((n, n), dtype=int)#matriz nxn\n",
        "    #b[:,3] = 1#para todas las filas(:,) en la columna 3 quiero q haya 1s\n",
        "    b[::2,::2] = 1\n",
        "    plt.imshow(b)\n",
        "    plt.axis(\"off\")\n",
        "\n",
        "showBoard([1, 3, 0, 2])"
      ],
      "metadata": {
        "colab": {
          "base_uri": "https://localhost:8080/",
          "height": 406
        },
        "id": "G-vN6D2Nin8y",
        "outputId": "cffae794-99a0-4368-da08-fb3650e23dd6"
      },
      "execution_count": 30,
      "outputs": [
        {
          "output_type": "display_data",
          "data": {
            "text/plain": [
              "<Figure size 640x480 with 1 Axes>"
            ],
            "image/png": "[encoded data removed]"
          },
          "metadata": {}
        }
      ]
    },
    {
      "cell_type": "code",
      "source": [
        "def showBoard(board: list):\n",
        "    n = len(board)#numero de filas que tiene este tablero\n",
        "    b = np.zeros((n, n), dtype=int)#matriz nxn\n",
        "    b[::2,::2] = 1\n",
        "    b[1::2, 1::2] = 1\n",
        "    plt.imshow(b)\n",
        "    plt.axis(\"off\")\n",
        "\n",
        "showBoard([1, 3, 0, 2])"
      ],
      "metadata": {
        "colab": {
          "base_uri": "https://localhost:8080/",
          "height": 406
        },
        "id": "w6Opt_Tlj7zZ",
        "outputId": "60964a2b-35de-4533-db23-4ed0abb4c973"
      },
      "execution_count": 31,
      "outputs": [
        {
          "output_type": "display_data",
          "data": {
            "text/plain": [
              "<Figure size 640x480 with 1 Axes>"
            ],
            "image/png": "[encoded data removed]"
          },
          "metadata": {}
        }
      ]
    },
    {
      "cell_type": "code",
      "source": [
        "def showBoard(board: list):\n",
        "    n = len(board)  #3->rgb nxnx3\n",
        "    b = np.zeros((n, n, 3), dtype=int)\n",
        "    b[:, :] = [230, 150, 130]\n",
        "    b[::2, ::2] = [250, 210, 180]\n",
        "    b[1::2, 1::2] = [250, 210, 180]\n",
        "    plt.imshow(b)\n",
        "    for row, col in enumerate(board):#la fil y la col le saco del tablero\n",
        "        if col != -1:\n",
        "            plt.text(col, row, u\"\\u265B\", size=200/n, ha='center', va='center')\n",
        "    plt.axis(\"off\")\n",
        "    plt.show()#recomendable\n",
        "\n",
        "showBoard([1, 3, 0, 2, 5, 7, 4, 6])#tablero mas grande"
      ],
      "metadata": {
        "colab": {
          "base_uri": "https://localhost:8080/",
          "height": 406
        },
        "id": "F1C2BQpxkV0R",
        "outputId": "8eac09b6-18ba-4fb3-d47f-0e92118a266a"
      },
      "execution_count": 50,
      "outputs": [
        {
          "output_type": "display_data",
          "data": {
            "text/plain": [
              "<Figure size 640x480 with 1 Axes>"
            ],
            "image/png": "[encoded data removed]"
          },
          "metadata": {}
        }
      ]
    }
  ]
}