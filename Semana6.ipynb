{
  "nbformat": 4,
  "nbformat_minor": 0,
  "metadata": {
    "colab": {
      "provenance": [],
      "authorship_tag": "ABX9TyMlXFqZjJvxEFHzqJn0ziLl",
      "include_colab_link": true
    },
    "kernelspec": {
      "name": "python3",
      "display_name": "Python 3"
    },
    "language_info": {
      "name": "python"
    }
  },
  "cells": [
    {
      "cell_type": "markdown",
      "metadata": {
        "id": "view-in-github",
        "colab_type": "text"
      },
      "source": [
        "<a href=\"https://colab.research.google.com/github/Andres2580/Complejidad-Algoritmica-Clases/blob/main/Semana6.ipynb\" target=\"_parent\"><img src=\"https://colab.research.google.com/assets/colab-badge.svg\" alt=\"Open In Colab\"/></a>"
      ]
    },
    {
      "cell_type": "code",
      "execution_count": 8,
      "metadata": {
        "id": "GfEo_Xt0K-LA"
      },
      "outputs": [],
      "source": [
        "def bfs(g,s):\n",
        "    n = len(G)#el tamano de nuestro grafo\n",
        "    visited = [False]*n #arreglo de visitados, poner falso a todos\n",
        "    path = [-1]*n#no se sabe quien va ser los padres\n",
        "    queue = [s]\n",
        "    visited[s] = True\n",
        "\n",
        "    while queue:\n",
        "      #sacamos el primer elemento 0\n",
        "        u =  queue.pop(0)# va ser el vertice que vamos a sacar de nuestra cola\n",
        "        for v in range(n):\n",
        "            if G[u,v] != 0 and not visited[v]:\n",
        "                visited[v] = True\n",
        "                path[v] = u\n",
        "                queue.append(v)\n",
        "    return path"
      ]
    },
    {
      "cell_type": "code",
      "source": [
        "def dfs(g,s):\n",
        "    n = len(G)#el tamano de nuestro grafo\n",
        "    visited = [False]*n #arreglo de visitados, poner falso a todos\n",
        "    path = [-1]*n#no se sabe quien va ser los padres\n",
        "\n",
        "    def f(u):\n",
        "        visited[u] = True\n",
        "        for v in range(n):\n",
        "            if G[u,v] != 0 and not visited[v]:\n",
        "                path[v] = u\n",
        "                f(v)\n",
        "    f(s)\n",
        "    return path"
      ],
      "metadata": {
        "id": "0qjzVfm53kSD"
      },
      "execution_count": 7,
      "outputs": []
    },
    {
      "cell_type": "code",
      "source": [
        "class Graph:\n",
        "    def __init__(self):\n",
        "        self._g = []# una lista\n",
        "        self._labels = []\n",
        "        self._names = []\n",
        "        self.__name2idx = dict()\n",
        "    #cuando agregamos un nodo\n",
        "    def addNode(self, name, label = None):\n",
        "        if label == None:\n",
        "            label = name\n",
        "        n = len(self._g)\n",
        "        self._g.append([])\n",
        "        self._names.append(name)\n",
        "        self._labels.append(label)\n",
        "        self.__name2idx[name]"
      ],
      "metadata": {
        "id": "eUeth_4_6NsU"
      },
      "execution_count": null,
      "outputs": []
    },
    {
      "cell_type": "code",
      "source": [
        "class Graph:\n",
        "\n",
        "    def __init__(self):\n",
        "        self._g = []# una lista\n",
        "        self._labels = []\n",
        "        self._names = []\n",
        "        self.__name2idx = dict()\n",
        "    #cuando agregamos un nodo\n",
        "    def addNode(self, name, label = None):\n",
        "        if label == None:\n",
        "            label = name\n",
        "        n = len(self._g)\n",
        "        self._g.append([])\n",
        "        self._names.append(name)\n",
        "        self._labels.append(label)\n",
        "        self.__name2idx[name]"
      ],
      "metadata": {
        "id": "gLLrF55VAsf1"
      },
      "execution_count": null,
      "outputs": []
    },
    {
      "cell_type": "markdown",
      "source": [
        "Semana 6 -----------------------------------------"
      ],
      "metadata": {
        "id": "GIxxYb3SfDDu"
      }
    },
    {
      "cell_type": "code",
      "source": [
        "!sudo apt-get install python3-dev graphviz libgraphviz-dev pkg-config"
      ],
      "metadata": {
        "id": "OHQ38zjCpANh"
      },
      "execution_count": null,
      "outputs": []
    },
    {
      "cell_type": "code",
      "source": [
        "!python -m pip install pygraphviz"
      ],
      "metadata": {
        "id": "aKXrBCo3pArl"
      },
      "execution_count": null,
      "outputs": []
    },
    {
      "cell_type": "code",
      "source": [
        "import heapq\n",
        "import graphviz as gv\n",
        "import networkx as nx"
      ],
      "metadata": {
        "id": "OhrJkmw1XWSc"
      },
      "execution_count": 25,
      "outputs": []
    },
    {
      "cell_type": "code",
      "source": [
        "#usando networkX\n",
        "#Son los caminos que estamos creando\n",
        "def dijkstra(G: nx.DiGraph, s):\n",
        "    n = G.number_of_nodes()\n",
        "    #toda la informacion por fuera\n",
        "    visited = [False]*n#arr de visitados\n",
        "    path = [-1]*n #arr de padres\n",
        "    g = [float('inf')]*n #Costo\n",
        "    pq = [] # cola de prioridad\n",
        "\n",
        "    g[s] = 0 #la parte inicial q se ha mencionado\n",
        "    heapq.heappush(pq,(0,s)) # distancia 0, vertice s\n",
        "\n",
        "    while pq: # no este vacia, vamos a extraer\n",
        "    #extraigo 2 parametros\n",
        "        _, u = heapq.heappop(pq)\n",
        "        visited[u] = True\n",
        "        for v in G.neighbors(u):\n",
        "            if not visited[v]:\n",
        "                w = G.edges[u,v]['weight']\n",
        "                if g[u] + w < g[v]:\n",
        "                    g[v] = g[u] + w\n",
        "                    path[v] = u\n",
        "                    heapq.heappush(pq, (g[v], v))\n",
        "\n",
        "    return path,g\n",
        "\n",
        "\n"
      ],
      "metadata": {
        "id": "WyJZgxe5dhvc"
      },
      "execution_count": 26,
      "outputs": []
    },
    {
      "cell_type": "markdown",
      "source": [
        "##Pure networkx"
      ],
      "metadata": {
        "id": "CJtl5kiBf_L-"
      }
    },
    {
      "cell_type": "code",
      "source": [
        "#usando networkX\n",
        "#Nos permite agregar informacion adicional arbitraria a cada uno de nuestros nodos\n",
        "def dijkstraNX(G: nx.DiGraph, s):\n",
        "    for u in G.nodes:\n",
        "        G.nodes[u]['visited'] = False\n",
        "        G.nodes[u]['path'] = -1\n",
        "        G.nodes[u]['g'] = float('inf')\n",
        "\n",
        "\n",
        "    pq = [] # cola de prioridad\n",
        "    G.nodes[s]['g'] = 0\n",
        "    heapq.heappush(pq,(0,s)) # distancia 0, vertice s\n",
        "\n",
        "    while pq: # no este vacia, vamos a extraer\n",
        "    #extraigo 2 parametros\n",
        "        _, u = heapq.heappop(pq)\n",
        "        G.nodes[u]['visited'] = True\n",
        "        for v in G.neighbors(u):\n",
        "            if not G.nodes[v]['visited']:\n",
        "                w = G.edges[u,v]['weight']\n",
        "                if G.nodes[u]['g'] + w < G.nodes[v]['g']:\n",
        "                    G.nodes[v]['g'] = G.nodes[u]['g'] + w\n",
        "                    G.nodes[v]['path'] = u\n",
        "                    heapq.heappush(pq, (G.nodes[v]['g'], v))\n",
        "\n",
        "    path = [-1 if u == s else G.nodes[u]['path'] for u in G.nodes]\n",
        "    g = [G.nodes[u]['g'] for u in G.nodes]\n",
        "\n",
        "    return path,g"
      ],
      "metadata": {
        "id": "8wKbm7pjfS63"
      },
      "execution_count": 28,
      "outputs": []
    },
    {
      "cell_type": "markdown",
      "source": [
        "##dijkstraAL (Lista de Adyacencia)"
      ],
      "metadata": {
        "id": "ZtG___4qlFnA"
      }
    },
    {
      "cell_type": "code",
      "source": [
        "#Utilizo una representacion basica\n",
        "#Lista de Adjacencia\n",
        "def dijkstraAL(G: list, s):\n",
        "    n = len(G)\n",
        "    visited = [False]*n#arr de visitados\n",
        "    path = [-1]*n #arr de padres\n",
        "    g = [float('inf')]*n #Costo\n",
        "    pq = [] # cola de prioridad\n",
        "    g[s] = 0 #la parte inicial q se ha mencionado\n",
        "    heapq.heappush(pq,(0,s)) # distancia 0, vertice s\n",
        "\n",
        "    while pq: # no este vacia, vamos a extraer\n",
        "    #extraigo 2 parametros\n",
        "        _, u = heapq.heappop(pq)\n",
        "        visited[u] = True\n",
        "        for v, w in G[u]:\n",
        "                if not visited[v] and g[u] + w < g[v]:\n",
        "                    g[v] = g[u] + w\n",
        "                    path[v] = u\n",
        "                    heapq.heappush(pq, (g[v], v))\n",
        "\n",
        "    return path,g"
      ],
      "metadata": {
        "id": "S6kpP0QbXmZs"
      },
      "execution_count": 29,
      "outputs": []
    },
    {
      "cell_type": "code",
      "source": [
        "%%file 1.csv\n",
        "#u, v, w vertice, arista, peso\n",
        "0,2,6\n",
        "0,3,9\n",
        "1,0,3\n",
        "1,3,8\n",
        "1,5,9\n",
        "3,5,8\n",
        "5,6,7\n",
        "5,7,7\n",
        "6,4,4\n",
        "7,4,6"
      ],
      "metadata": {
        "colab": {
          "base_uri": "https://localhost:8080/"
        },
        "id": "NIUXC0cxl9Al",
        "outputId": "27577e65-ca46-4c44-fbcd-4d6e0881f57f"
      },
      "execution_count": 30,
      "outputs": [
        {
          "output_type": "stream",
          "name": "stdout",
          "text": [
            "Overwriting 1.csv\n"
          ]
        }
      ]
    },
    {
      "cell_type": "code",
      "source": [
        "G = nx.read_weighted_edgelist('1.csv', create_using=nx.DiGraph, delimiter=',', nodetype=int)\n",
        "print(G)"
      ],
      "metadata": {
        "colab": {
          "base_uri": "https://localhost:8080/"
        },
        "id": "I1n4EUwIoHc9",
        "outputId": "0d5c8b54-0ce3-4cd3-f65a-363d87d3f68b"
      },
      "execution_count": 16,
      "outputs": [
        {
          "output_type": "stream",
          "name": "stdout",
          "text": [
            "DiGraph with 8 nodes and 10 edges\n"
          ]
        }
      ]
    },
    {
      "cell_type": "code",
      "source": [
        "G = nx.read_weighted_edgelist('1.csv', create_using=nx.DiGraph, delimiter=',', nodetype=int)\n",
        "nx.draw(G)"
      ],
      "metadata": {
        "colab": {
          "base_uri": "https://localhost:8080/",
          "height": 516
        },
        "id": "TxhvqcsFlChs",
        "outputId": "f7453e7f-c78d-4e12-fb23-6e7ad801ac06"
      },
      "execution_count": 15,
      "outputs": [
        {
          "output_type": "display_data",
          "data": {
            "text/plain": [
              "<Figure size 640x480 with 1 Axes>"
            ],
            "image/png": "[encoded data removed]"
          },
          "metadata": {}
        }
      ]
    },
    {
      "cell_type": "code",
      "source": [
        "G = nx.read_weighted_edgelist('1.csv', create_using=nx.DiGraph, delimiter=',', nodetype=int)\n",
        "#A = nx.nx_agraph.to_agraph(G)\n",
        "gv.Source(nx.nx_agraph.to_agraph(G).string())"
      ],
      "metadata": {
        "colab": {
          "base_uri": "https://localhost:8080/",
          "height": 560
        },
        "id": "zQskjb-5qBNg",
        "outputId": "2a07cfbb-0c6f-4178-cd1b-09276f4ae1b5"
      },
      "execution_count": 31,
      "outputs": [
        {
          "output_type": "execute_result",
          "data": {
            "image/svg+xml": "<?xml version=\"1.0\" encoding=\"UTF-8\" standalone=\"no\"?>\n<!DOCTYPE svg PUBLIC \"-//W3C//DTD SVG 1.1//EN\"\n \"http://www.w3.org/Graphics/SVG/1.1/DTD/svg11.dtd\">\n<!-- Generated by graphviz version 2.43.0 (0)\n -->\n<!-- Pages: 1 -->\n<svg width=\"225pt\" height=\"404pt\"\n viewBox=\"0.00 0.00 225.00 404.00\" xmlns=\"http://www.w3.org/2000/svg\" xmlns:xlink=\"http://www.w3.org/1999/xlink\">\n<g id=\"graph0\" class=\"graph\" transform=\"scale(1 1) rotate(0) translate(4 400)\">\n<polygon fill=\"white\" stroke=\"transparent\" points=\"-4,4 -4,-400 221,-400 221,4 -4,4\"/>\n<!-- 0 -->\n<g id=\"node1\" class=\"node\">\n<title>0</title>\n<ellipse fill=\"none\" stroke=\"black\" cx=\"61\" cy=\"-306\" rx=\"27\" ry=\"18\"/>\n<text text-anchor=\"middle\" x=\"61\" y=\"-302.3\" font-family=\"Times,serif\" font-size=\"14.00\">0</text>\n</g>\n<!-- 2 -->\n<g id=\"node2\" class=\"node\">\n<title>2</title>\n<ellipse fill=\"none\" stroke=\"black\" cx=\"27\" cy=\"-234\" rx=\"27\" ry=\"18\"/>\n<text text-anchor=\"middle\" x=\"27\" y=\"-230.3\" font-family=\"Times,serif\" font-size=\"14.00\">2</text>\n</g>\n<!-- 0&#45;&gt;2 -->\n<g id=\"edge1\" class=\"edge\">\n<title>0&#45;&gt;2</title>\n<path fill=\"none\" stroke=\"black\" d=\"M53.11,-288.76C49.1,-280.49 44.11,-270.23 39.58,-260.9\"/>\n<polygon fill=\"black\" stroke=\"black\" points=\"42.6,-259.1 35.08,-251.63 36.3,-262.16 42.6,-259.1\"/>\n</g>\n<!-- 3 -->\n<g id=\"node3\" class=\"node\">\n<title>3</title>\n<ellipse fill=\"none\" stroke=\"black\" cx=\"99\" cy=\"-234\" rx=\"27\" ry=\"18\"/>\n<text text-anchor=\"middle\" x=\"99\" y=\"-230.3\" font-family=\"Times,serif\" font-size=\"14.00\">3</text>\n</g>\n<!-- 0&#45;&gt;3 -->\n<g id=\"edge2\" class=\"edge\">\n<title>0&#45;&gt;3</title>\n<path fill=\"none\" stroke=\"black\" d=\"M69.81,-288.76C74.42,-280.28 80.16,-269.71 85.32,-260.2\"/>\n<polygon fill=\"black\" stroke=\"black\" points=\"88.54,-261.61 90.23,-251.15 82.39,-258.27 88.54,-261.61\"/>\n</g>\n<!-- 5 -->\n<g id=\"node4\" class=\"node\">\n<title>5</title>\n<ellipse fill=\"none\" stroke=\"black\" cx=\"154\" cy=\"-162\" rx=\"27\" ry=\"18\"/>\n<text text-anchor=\"middle\" x=\"154\" y=\"-158.3\" font-family=\"Times,serif\" font-size=\"14.00\">5</text>\n</g>\n<!-- 3&#45;&gt;5 -->\n<g id=\"edge3\" class=\"edge\">\n<title>3&#45;&gt;5</title>\n<path fill=\"none\" stroke=\"black\" d=\"M110.93,-217.81C118.21,-208.55 127.66,-196.52 135.85,-186.09\"/>\n<polygon fill=\"black\" stroke=\"black\" points=\"138.66,-188.18 142.09,-178.16 133.16,-183.86 138.66,-188.18\"/>\n</g>\n<!-- 6 -->\n<g id=\"node6\" class=\"node\">\n<title>6</title>\n<ellipse fill=\"none\" stroke=\"black\" cx=\"118\" cy=\"-90\" rx=\"27\" ry=\"18\"/>\n<text text-anchor=\"middle\" x=\"118\" y=\"-86.3\" font-family=\"Times,serif\" font-size=\"14.00\">6</text>\n</g>\n<!-- 5&#45;&gt;6 -->\n<g id=\"edge7\" class=\"edge\">\n<title>5&#45;&gt;6</title>\n<path fill=\"none\" stroke=\"black\" d=\"M145.65,-144.76C141.29,-136.28 135.85,-125.71 130.96,-116.2\"/>\n<polygon fill=\"black\" stroke=\"black\" points=\"133.99,-114.44 126.3,-107.15 127.77,-117.64 133.99,-114.44\"/>\n</g>\n<!-- 7 -->\n<g id=\"node7\" class=\"node\">\n<title>7</title>\n<ellipse fill=\"none\" stroke=\"black\" cx=\"190\" cy=\"-90\" rx=\"27\" ry=\"18\"/>\n<text text-anchor=\"middle\" x=\"190\" y=\"-86.3\" font-family=\"Times,serif\" font-size=\"14.00\">7</text>\n</g>\n<!-- 5&#45;&gt;7 -->\n<g id=\"edge8\" class=\"edge\">\n<title>5&#45;&gt;7</title>\n<path fill=\"none\" stroke=\"black\" d=\"M162.35,-144.76C166.71,-136.28 172.15,-125.71 177.04,-116.2\"/>\n<polygon fill=\"black\" stroke=\"black\" points=\"180.23,-117.64 181.7,-107.15 174.01,-114.44 180.23,-117.64\"/>\n</g>\n<!-- 1 -->\n<g id=\"node5\" class=\"node\">\n<title>1</title>\n<ellipse fill=\"none\" stroke=\"black\" cx=\"116\" cy=\"-378\" rx=\"27\" ry=\"18\"/>\n<text text-anchor=\"middle\" x=\"116\" y=\"-374.3\" font-family=\"Times,serif\" font-size=\"14.00\">1</text>\n</g>\n<!-- 1&#45;&gt;0 -->\n<g id=\"edge4\" class=\"edge\">\n<title>1&#45;&gt;0</title>\n<path fill=\"none\" stroke=\"black\" d=\"M104.07,-361.81C96.79,-352.55 87.34,-340.52 79.15,-330.09\"/>\n<polygon fill=\"black\" stroke=\"black\" points=\"81.84,-327.86 72.91,-322.16 76.34,-332.18 81.84,-327.86\"/>\n</g>\n<!-- 1&#45;&gt;3 -->\n<g id=\"edge5\" class=\"edge\">\n<title>1&#45;&gt;3</title>\n<path fill=\"none\" stroke=\"black\" d=\"M113.95,-359.87C111.05,-335.67 105.73,-291.21 102.28,-262.39\"/>\n<polygon fill=\"black\" stroke=\"black\" points=\"105.72,-261.7 101.06,-252.19 98.77,-262.53 105.72,-261.7\"/>\n</g>\n<!-- 1&#45;&gt;5 -->\n<g id=\"edge6\" class=\"edge\">\n<title>1&#45;&gt;5</title>\n<path fill=\"none\" stroke=\"black\" d=\"M119.05,-359.85C125.63,-322.74 141.26,-234.75 149.2,-190.05\"/>\n<polygon fill=\"black\" stroke=\"black\" points=\"152.69,-190.39 150.99,-179.94 145.8,-189.17 152.69,-190.39\"/>\n</g>\n<!-- 4 -->\n<g id=\"node8\" class=\"node\">\n<title>4</title>\n<ellipse fill=\"none\" stroke=\"black\" cx=\"190\" cy=\"-18\" rx=\"27\" ry=\"18\"/>\n<text text-anchor=\"middle\" x=\"190\" y=\"-14.3\" font-family=\"Times,serif\" font-size=\"14.00\">4</text>\n</g>\n<!-- 6&#45;&gt;4 -->\n<g id=\"edge9\" class=\"edge\">\n<title>6&#45;&gt;4</title>\n<path fill=\"none\" stroke=\"black\" d=\"M132.57,-74.83C142.75,-64.94 156.52,-51.55 168.03,-40.36\"/>\n<polygon fill=\"black\" stroke=\"black\" points=\"170.47,-42.87 175.2,-33.38 165.59,-37.85 170.47,-42.87\"/>\n</g>\n<!-- 7&#45;&gt;4 -->\n<g id=\"edge10\" class=\"edge\">\n<title>7&#45;&gt;4</title>\n<path fill=\"none\" stroke=\"black\" d=\"M190,-71.7C190,-63.98 190,-54.71 190,-46.11\"/>\n<polygon fill=\"black\" stroke=\"black\" points=\"193.5,-46.1 190,-36.1 186.5,-46.1 193.5,-46.1\"/>\n</g>\n</g>\n</svg>\n",
            "text/plain": [
              "<graphviz.sources.Source at 0x7a53883d7880>"
            ]
          },
          "metadata": {},
          "execution_count": 31
        }
      ]
    },
    {
      "cell_type": "code",
      "source": [
        "dijkstra(G, 1)"
      ],
      "metadata": {
        "colab": {
          "base_uri": "https://localhost:8080/"
        },
        "id": "OSCZQwe8q2Z5",
        "outputId": "ccb0da70-ddae-4b77-8aa8-6589660e8002"
      },
      "execution_count": 32,
      "outputs": [
        {
          "output_type": "execute_result",
          "data": {
            "text/plain": [
              "([1, -1, 0, 1, 6, 1, 5, 5], [3.0, 0, 9.0, 8.0, 20.0, 9.0, 16.0, 16.0])"
            ]
          },
          "metadata": {},
          "execution_count": 32
        }
      ]
    },
    {
      "cell_type": "code",
      "source": [
        "dijkstraNX(G, 1)"
      ],
      "metadata": {
        "colab": {
          "base_uri": "https://localhost:8080/"
        },
        "id": "W2XmBN8SruaU",
        "outputId": "5fdda3a6-4d1e-4b0f-850e-9ae0ebf85528"
      },
      "execution_count": 33,
      "outputs": [
        {
          "output_type": "execute_result",
          "data": {
            "text/plain": [
              "([1, 0, 1, -1, 1, 5, 5, 6], [3.0, 9.0, 8.0, 0, 9.0, 16.0, 16.0, 20.0])"
            ]
          },
          "metadata": {},
          "execution_count": 33
        }
      ]
    },
    {
      "cell_type": "code",
      "source": [
        "with open('1.csv') as f:\n",
        "    G = []\n",
        "    for line in f:\n",
        "        if line.startswith('#'):\n",
        "            continue\n",
        "        u, v, w = [int(x) for x in line.split(',')]\n",
        "        if len(G) < max(u,v):\n",
        "            for i in range(len(G), max(u,v)+1):\n",
        "                G.append([])\n",
        "        G[u].append((v,w))\n",
        "    print(G)"
      ],
      "metadata": {
        "colab": {
          "base_uri": "https://localhost:8080/"
        },
        "id": "1bdBw4Pcrx-J",
        "outputId": "15f20824-d499-45a2-cc6c-983f854f146f"
      },
      "execution_count": 34,
      "outputs": [
        {
          "output_type": "stream",
          "name": "stdout",
          "text": [
            "[[(2, 6), (3, 9)], [(0, 3), (3, 8), (5, 9)], [], [(5, 8)], [], [(6, 7), (7, 7)], [(4, 4)], [(4, 6)]]\n"
          ]
        }
      ]
    },
    {
      "cell_type": "code",
      "source": [
        "dijkstraAL(G,1)"
      ],
      "metadata": {
        "colab": {
          "base_uri": "https://localhost:8080/"
        },
        "id": "ZD-zfJAhtGEY",
        "outputId": "9f8a9d91-a8f3-42c9-d9da-cec95f42e8d0"
      },
      "execution_count": 35,
      "outputs": [
        {
          "output_type": "execute_result",
          "data": {
            "text/plain": [
              "([1, -1, 0, 1, 6, 1, 5, 5], [3, 0, 9, 8, 20, 9, 16, 16])"
            ]
          },
          "metadata": {},
          "execution_count": 35
        }
      ]
    }
  ]
}