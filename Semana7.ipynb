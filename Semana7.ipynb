{
  "nbformat": 4,
  "nbformat_minor": 0,
  "metadata": {
    "colab": {
      "provenance": [],
      "authorship_tag": "ABX9TyP2lVJ+3QLo5/vIW3dtVCE6",
      "include_colab_link": true
    },
    "kernelspec": {
      "name": "python3",
      "display_name": "Python 3"
    },
    "language_info": {
      "name": "python"
    }
  },
  "cells": [
    {
      "cell_type": "markdown",
      "metadata": {
        "id": "view-in-github",
        "colab_type": "text"
      },
      "source": [
        "<a href=\"https://colab.research.google.com/github/Andres2580/Complejidad-Algoritmica-Clases/blob/main/Semana7.ipynb\" target=\"_parent\"><img src=\"https://colab.research.google.com/assets/colab-badge.svg\" alt=\"Open In Colab\"/></a>"
      ]
    },
    {
      "cell_type": "code",
      "source": [
        "#Lista de adyacencia / vertice 0 arco 1 y 4 / vertice 2 no sale arcos\n",
        "%%file 1.g\n",
        "1 4\n",
        "-\n",
        "-\n",
        "2 6 17\n",
        "7\n",
        "2\n",
        "10\n",
        "0 8\n",
        "4\n",
        "8\n",
        "-\n",
        "8 14\n",
        "16\n",
        "9 17\n",
        "15\n",
        "11 17\n",
        "15 17\n",
        "13\n"
      ],
      "metadata": {
        "colab": {
          "base_uri": "https://localhost:8080/"
        },
        "id": "HMIcJ9bpiiFn",
        "outputId": "4d42e113-57a6-40e3-f2bc-c5cae8919315"
      },
      "execution_count": null,
      "outputs": [
        {
          "output_type": "stream",
          "name": "stdout",
          "text": [
            "Writing 1.g\n"
          ]
        }
      ]
    },
    {
      "cell_type": "code",
      "source": [
        "#ahi esta nuestro grafo como lista de adyacencia\n",
        "with open('1.g') as f:\n",
        "    G = []\n",
        "    for line in f:\n",
        "        if line.startswith('-'):\n",
        "            G.append([])\n",
        "            continue\n",
        "        G.append([int(v) for v in line.split()])\n",
        "\n",
        "for un in G:\n",
        "    print(un)"
      ],
      "metadata": {
        "colab": {
          "base_uri": "https://localhost:8080/"
        },
        "id": "lpUuzZe6kXmr",
        "outputId": "96c509c9-a669-4e18-921f-2a56c016082f"
      },
      "execution_count": null,
      "outputs": [
        {
          "output_type": "stream",
          "name": "stdout",
          "text": [
            "[1, 4]\n",
            "[]\n",
            "[]\n",
            "[2, 6, 17]\n",
            "[7]\n",
            "[2]\n",
            "[10]\n",
            "[0, 8]\n",
            "[4]\n",
            "[8]\n",
            "[]\n",
            "[8, 14]\n",
            "[16]\n",
            "[9, 17]\n",
            "[15]\n",
            "[11, 17]\n",
            "[15, 17]\n",
            "[13]\n",
            "[]\n"
          ]
        }
      ]
    },
    {
      "cell_type": "code",
      "source": [
        "#Busqueda en profundidad limitada\n",
        "def dls(G,s,t, L):#s a t\n",
        "    n = len(G)# busqueda de profundidad tradicional\n",
        "    visited = [False] # los visitados van a ser falsos\n",
        "    path = [-1]*n# el camino q hemos encontrado va ser inicialmente desconocido, no hay camino ahi[-1]\n",
        "\n",
        "    def _dls(u,l):#vertice u con un limite\n",
        "     #salimos\n",
        "        if l == 0: return\n",
        "        visited[u] = True\n",
        "        if u == t:# hemos llegado al punto q necesitabamos\n",
        "            return\n",
        "        for v in G[u]:\n",
        "            if not visited[v]:\n",
        "                path[v] = u\n",
        "                _dls(v, l-1)\n",
        "\n",
        "    _dls(s, L)#desde s\n",
        "    return path"
      ],
      "metadata": {
        "id": "oBadIyAse_jg"
      },
      "execution_count": null,
      "outputs": []
    },
    {
      "cell_type": "code",
      "source": [
        "graphs.show(G, directed = True, layout = \"neato\")"
      ],
      "metadata": {
        "id": "ZR6pv0R2r7Iq"
      },
      "execution_count": null,
      "outputs": []
    },
    {
      "cell_type": "code",
      "source": [
        "path = dls(G, s = 12, t = 1, L =3)\n",
        "graphs.show(G, directed = True, path = path, layout = 'neato')"
      ],
      "metadata": {
        "id": "UXbL8bZJrKi4"
      },
      "execution_count": null,
      "outputs": []
    },
    {
      "cell_type": "code",
      "source": [
        "path = dls(G, s = 12, t = 1, L =6)\n",
        "graphs.show(G, directed = True, path = path, layout = 'neato')"
      ],
      "metadata": {
        "id": "zxqjbFDUrdkm"
      },
      "execution_count": null,
      "outputs": []
    },
    {
      "cell_type": "code",
      "source": [
        "path = dls(G, s = 12, t = 1, L =10)\n",
        "graphs.show(G, directed = True, path = path, layout = 'neato')"
      ],
      "metadata": {
        "id": "q73coFntrqbT"
      },
      "execution_count": null,
      "outputs": []
    },
    {
      "cell_type": "code",
      "source": [],
      "metadata": {
        "id": "_AqxdVausoUt"
      },
      "execution_count": null,
      "outputs": []
    }
  ]
}