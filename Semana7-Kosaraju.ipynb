{
  "nbformat": 4,
  "nbformat_minor": 0,
  "metadata": {
    "colab": {
      "provenance": [],
      "authorship_tag": "ABX9TyMm2qlk6h+qVobC8wLiJz25",
      "include_colab_link": true
    },
    "kernelspec": {
      "name": "python3",
      "display_name": "Python 3"
    },
    "language_info": {
      "name": "python"
    }
  },
  "cells": [
    {
      "cell_type": "markdown",
      "metadata": {
        "id": "view-in-github",
        "colab_type": "text"
      },
      "source": [
        "<a href=\"https://colab.research.google.com/github/Andres2580/Complejidad-Algoritmica-Clases/blob/main/Semana7-Kosaraju.ipynb\" target=\"_parent\"><img src=\"https://colab.research.google.com/assets/colab-badge.svg\" alt=\"Open In Colab\"/></a>"
      ]
    },
    {
      "cell_type": "code",
      "source": [
        "def kosaraju(G):\n",
        "    n = len(G)\n",
        "    visited = [False]*n\n",
        "    f = []\n",
        "\n",
        "    def dfs(G,u,lst):\n",
        "        visited[u] = True\n",
        "        for v in G[u]:\n",
        "            if not visited[v]:\n",
        "                dfs(G,v, lst)\n",
        "        lst.append(u)\n",
        "\n",
        "    #1, encontrar orden de finalizacion\n",
        "    for u in range(n):\n",
        "        if not visited[u]:\n",
        "            dfs(G,u,f)\n",
        "\n",
        "    #2, invert graph\n",
        "    Grev = [[] for _ in range(n)]\n",
        "    for u in range(n):\n",
        "        for v in G[u]:\n",
        "            Grev[v].append(u)\n",
        "\n",
        "    # dfs para cada u en reversa f orden\n",
        "    visited = [False]*n\n",
        "    scc = []\n",
        "    for u in reversed(f):\n",
        "        if not visited[u]:\n",
        "            comp = []\n",
        "            dfs(Grev, u,comp)\n",
        "            scc.append(comp)\n",
        "    return scc"
      ],
      "metadata": {
        "id": "66Rvb-3NQEUg"
      },
      "execution_count": 61,
      "outputs": []
    },
    {
      "cell_type": "code",
      "source": [
        "%%file 2.g\n",
        "1\n",
        "2\n",
        "3 4\n",
        "0\n",
        "5\n",
        "6\n",
        "4 7\n",
        "-"
      ],
      "metadata": {
        "colab": {
          "base_uri": "https://localhost:8080/"
        },
        "id": "kDAkK23uRk30",
        "outputId": "b0b8be15-3bf4-4fb6-e0d3-f2375c18ccf3"
      },
      "execution_count": 54,
      "outputs": [
        {
          "output_type": "stream",
          "name": "stdout",
          "text": [
            "Overwriting 2.g\n"
          ]
        }
      ]
    },
    {
      "cell_type": "code",
      "source": [
        "with open('2.g') as f:\n",
        "    G = []\n",
        "    for line in f:\n",
        "        if line.startswith('-'):\n",
        "            G.append([])\n",
        "        else:\n",
        "            G.append([int(v) for v in line.split()])\n",
        "    print(G)"
      ],
      "metadata": {
        "colab": {
          "base_uri": "https://localhost:8080/"
        },
        "id": "kKhVG1_GRrYW",
        "outputId": "98de03cf-1edc-46f4-8b4c-4a6b15750479"
      },
      "execution_count": 55,
      "outputs": [
        {
          "output_type": "stream",
          "name": "stdout",
          "text": [
            "[[1], [2], [3, 4], [0], [5], [6], [4, 7], []]\n"
          ]
        }
      ]
    },
    {
      "cell_type": "code",
      "source": [
        "kosaraju(G)"
      ],
      "metadata": {
        "colab": {
          "base_uri": "https://localhost:8080/"
        },
        "id": "oXKopN8ySKy4",
        "outputId": "6e7551ff-190a-4e9e-88a6-c813779f1f8c"
      },
      "execution_count": 62,
      "outputs": [
        {
          "output_type": "execute_result",
          "data": {
            "text/plain": [
              "[[1, 2, 3, 0], [5, 6, 4], [7]]"
            ]
          },
          "metadata": {},
          "execution_count": 62
        }
      ]
    }
  ]
}