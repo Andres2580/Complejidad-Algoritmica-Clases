{
  "nbformat": 4,
  "nbformat_minor": 0,
  "metadata": {
    "colab": {
      "provenance": [],
      "authorship_tag": "ABX9TyPVSNqLO1JV2J72Is2Foo2X",
      "include_colab_link": true
    },
    "kernelspec": {
      "name": "python3",
      "display_name": "Python 3"
    },
    "language_info": {
      "name": "python"
    }
  },
  "cells": [
    {
      "cell_type": "markdown",
      "metadata": {
        "id": "view-in-github",
        "colab_type": "text"
      },
      "source": [
        "<a href=\"https://colab.research.google.com/github/Andres2580/Complejidad-Algoritmica-Clases/blob/main/Semana1.ipynb\" target=\"_parent\"><img src=\"https://colab.research.google.com/assets/colab-badge.svg\" alt=\"Open In Colab\"/></a>"
      ]
    },
    {
      "cell_type": "code",
      "source": [
        "def factorial1(n):\n",
        "    respuesta = 1\n",
        "    while n > 1:\n",
        "      respuesta *= n\n",
        "      n -= 1\n",
        "\n",
        "    return respuesta\n",
        "factorial1(10)"
      ],
      "metadata": {
        "colab": {
          "base_uri": "https://localhost:8080/"
        },
        "id": "vX56dN3f9GUY",
        "outputId": "bab53ebf-fb83-43a4-d4e2-591d5b6c4c47"
      },
      "execution_count": 16,
      "outputs": [
        {
          "output_type": "execute_result",
          "data": {
            "text/plain": [
              "3628800"
            ]
          },
          "metadata": {},
          "execution_count": 16
        }
      ]
    },
    {
      "cell_type": "code",
      "source": [
        "def factorial2(n):\n",
        "    if n == 1:\n",
        "        return 1\n",
        "\n",
        "    return n * factorial2(n-1)\n",
        "\n",
        "factorial2(10)\n"
      ],
      "metadata": {
        "colab": {
          "base_uri": "https://localhost:8080/"
        },
        "id": "pSqWq-qn9_NC",
        "outputId": "95420be2-f801-4e82-f03f-d24dc94a4c41"
      },
      "execution_count": 17,
      "outputs": [
        {
          "output_type": "execute_result",
          "data": {
            "text/plain": [
              "3628800"
            ]
          },
          "metadata": {},
          "execution_count": 17
        }
      ]
    },
    {
      "cell_type": "code",
      "source": [
        "import time\n",
        "\n",
        "a = time.time()\n",
        "factorial1(20)\n",
        "b = time.time()\n",
        "print(b-a)\n",
        "\n",
        "a = time.time()\n",
        "factorial2(20)\n",
        "b = time.time()\n",
        "print(b-a)"
      ],
      "metadata": {
        "colab": {
          "base_uri": "https://localhost:8080/"
        },
        "id": "4ExfbPVN-Zsf",
        "outputId": "a90ad697-a371-4504-f732-8439e1366eda"
      },
      "execution_count": 18,
      "outputs": [
        {
          "output_type": "stream",
          "name": "stdout",
          "text": [
            "9.989738464355469e-05\n",
            "0.00014281272888183594\n"
          ]
        }
      ]
    },
    {
      "cell_type": "code",
      "source": [
        "%time factorial1(20)"
      ],
      "metadata": {
        "colab": {
          "base_uri": "https://localhost:8080/"
        },
        "id": "dZy8HBMY_o6B",
        "outputId": "b6fa0399-9ebf-44d3-aecc-dfea13265945"
      },
      "execution_count": 19,
      "outputs": [
        {
          "output_type": "stream",
          "name": "stdout",
          "text": [
            "CPU times: user 9 µs, sys: 2 µs, total: 11 µs\n",
            "Wall time: 16.2 µs\n"
          ]
        },
        {
          "output_type": "execute_result",
          "data": {
            "text/plain": [
              "2432902008176640000"
            ]
          },
          "metadata": {},
          "execution_count": 19
        }
      ]
    },
    {
      "cell_type": "code",
      "source": [
        "%time factorial2(20)"
      ],
      "metadata": {
        "colab": {
          "base_uri": "https://localhost:8080/"
        },
        "id": "qOsiNoxwAxa8",
        "outputId": "4934caac-a3ac-41b3-ade5-4f83910dd5fa"
      },
      "execution_count": 20,
      "outputs": [
        {
          "output_type": "stream",
          "name": "stdout",
          "text": [
            "CPU times: user 16 µs, sys: 0 ns, total: 16 µs\n",
            "Wall time: 19.3 µs\n"
          ]
        },
        {
          "output_type": "execute_result",
          "data": {
            "text/plain": [
              "2432902008176640000"
            ]
          },
          "metadata": {},
          "execution_count": 20
        }
      ]
    },
    {
      "cell_type": "code",
      "source": [
        "%timeit factorial1(20)"
      ],
      "metadata": {
        "colab": {
          "base_uri": "https://localhost:8080/"
        },
        "id": "soNIvHaoA7HG",
        "outputId": "3bea7676-d37e-48bf-a24b-7bed62673dc0"
      },
      "execution_count": 21,
      "outputs": [
        {
          "output_type": "stream",
          "name": "stdout",
          "text": [
            "2.26 µs ± 115 ns per loop (mean ± std. dev. of 7 runs, 100000 loops each)\n"
          ]
        }
      ]
    },
    {
      "cell_type": "code",
      "source": [
        "%timeit factorial2(20)"
      ],
      "metadata": {
        "colab": {
          "base_uri": "https://localhost:8080/"
        },
        "id": "ShuNBIbeBCxa",
        "outputId": "3ff55cdf-2d01-483b-a286-08663bde9ed0"
      },
      "execution_count": 22,
      "outputs": [
        {
          "output_type": "stream",
          "name": "stdout",
          "text": [
            "4.43 µs ± 1.48 µs per loop (mean ± std. dev. of 7 runs, 100000 loops each)\n"
          ]
        }
      ]
    },
    {
      "cell_type": "code",
      "source": [
        "for i in range(10,0,-1):\n",
        "  print(i)"
      ],
      "metadata": {
        "colab": {
          "base_uri": "https://localhost:8080/"
        },
        "id": "nyRRoWiOIBbo",
        "outputId": "e287989f-2237-4827-9dd7-e835dbee0d03"
      },
      "execution_count": 23,
      "outputs": [
        {
          "output_type": "stream",
          "name": "stdout",
          "text": [
            "10\n",
            "9\n",
            "8\n",
            "7\n",
            "6\n",
            "5\n",
            "4\n",
            "3\n",
            "2\n",
            "1\n"
          ]
        }
      ]
    },
    {
      "cell_type": "code",
      "source": [
        "def fibo(n):\n",
        "    t1, t2 = 0, 1\n",
        "    for i in range(n):#20pasaditas\n",
        "        t1, t2=t2, t1 + t2\n",
        "    return t1\n",
        "\n",
        "fibo(10)"
      ],
      "metadata": {
        "colab": {
          "base_uri": "https://localhost:8080/"
        },
        "id": "JDWiEMMqIScf",
        "outputId": "5d05e7f5-af28-4261-9132-425396dc2042"
      },
      "execution_count": 29,
      "outputs": [
        {
          "output_type": "execute_result",
          "data": {
            "text/plain": [
              "55"
            ]
          },
          "metadata": {},
          "execution_count": 29
        }
      ]
    },
    {
      "cell_type": "code",
      "source": [
        "%timeit fibo(20)"
      ],
      "metadata": {
        "colab": {
          "base_uri": "https://localhost:8080/"
        },
        "id": "BkxN1TOVI3vw",
        "outputId": "4da240c7-e625-4a23-fe6d-7a7920d64007"
      },
      "execution_count": 30,
      "outputs": [
        {
          "output_type": "stream",
          "name": "stdout",
          "text": [
            "1.58 µs ± 338 ns per loop (mean ± std. dev. of 7 runs, 1000000 loops each)\n"
          ]
        }
      ]
    },
    {
      "cell_type": "code",
      "source": [
        "def fibo2(n):\n",
        "    if n<2:\n",
        "        return n\n",
        "    return fibo2(n-1) + fibo2(n-2)\n",
        "\n",
        "fibo2(10)"
      ],
      "metadata": {
        "colab": {
          "base_uri": "https://localhost:8080/"
        },
        "id": "1J4vxos7JAPg",
        "outputId": "c03497fb-0898-44c4-c1d7-7e76a0a34469"
      },
      "execution_count": 32,
      "outputs": [
        {
          "output_type": "execute_result",
          "data": {
            "text/plain": [
              "55"
            ]
          },
          "metadata": {},
          "execution_count": 32
        }
      ]
    },
    {
      "cell_type": "code",
      "source": [
        "%timeit fibo2(20)"
      ],
      "metadata": {
        "colab": {
          "base_uri": "https://localhost:8080/"
        },
        "id": "598w-LlaJPgR",
        "outputId": "7f83f7c3-f31f-4f4d-8b00-1de70d2e870f"
      },
      "execution_count": 33,
      "outputs": [
        {
          "output_type": "stream",
          "name": "stdout",
          "text": [
            "2.83 ms ± 73.9 µs per loop (mean ± std. dev. of 7 runs, 100 loops each)\n"
          ]
        }
      ]
    },
    {
      "cell_type": "code",
      "source": [
        "#recibimos un arreglo a\n",
        "def makeB(a):\n",
        "    n = len(a)#cuantos elementos tiene un arreglo\n",
        "    b = [0]*n\n",
        "    #[0, 0, 0, 0, 0, 0, 0, 0, 0, 0]\n",
        "    for i in range(n):#slaising\n",
        "        b[i] = sum(a[0:i+1])/(i+1)#memoria adicional - copia - tiempo n cuadrado\n",
        "    return b\n",
        "#se llama una comprension\n",
        "makeB([i for i in range(10)])"
      ],
      "metadata": {
        "colab": {
          "base_uri": "https://localhost:8080/"
        },
        "id": "iY2Q6CW2Jfn3",
        "outputId": "a476c8e5-1035-4b53-802f-3fb16ac9b483"
      },
      "execution_count": 38,
      "outputs": [
        {
          "output_type": "execute_result",
          "data": {
            "text/plain": [
              "[0.0, 0.5, 1.0, 1.5, 2.0, 2.5, 3.0, 3.5, 4.0, 4.5]"
            ]
          },
          "metadata": {},
          "execution_count": 38
        }
      ]
    },
    {
      "cell_type": "code",
      "source": [
        "[i for i in range(10) ]"
      ],
      "metadata": {
        "colab": {
          "base_uri": "https://localhost:8080/"
        },
        "id": "aoUJKhPJKZpR",
        "outputId": "fbd06beb-5195-4fea-ff01-07bbbf3ff971"
      },
      "execution_count": 35,
      "outputs": [
        {
          "output_type": "execute_result",
          "data": {
            "text/plain": [
              "[0, 1, 2, 3, 4, 5, 6, 7, 8, 9]"
            ]
          },
          "metadata": {},
          "execution_count": 35
        }
      ]
    },
    {
      "cell_type": "code",
      "source": [
        "a = [i for i in range(10) ]\n",
        "print(a)\n",
        "print(a[5])\n",
        "print(a[:])\n",
        "print(a[4:9])\n",
        "print(a[3:7])\n",
        "print(a[:5])\n",
        "print(a[5:])\n",
        "print(a[0:10])\n",
        "print(a[0:i+1])"
      ],
      "metadata": {
        "colab": {
          "base_uri": "https://localhost:8080/"
        },
        "id": "cbrCk2CFLYka",
        "outputId": "f56d873e-a07b-46d7-8866-cf1cf0966e76"
      },
      "execution_count": 40,
      "outputs": [
        {
          "output_type": "stream",
          "name": "stdout",
          "text": [
            "[0, 1, 2, 3, 4, 5, 6, 7, 8, 9]\n",
            "5\n",
            "[0, 1, 2, 3, 4, 5, 6, 7, 8, 9]\n",
            "[4, 5, 6, 7, 8]\n",
            "[3, 4, 5, 6]\n",
            "[0, 1, 2, 3, 4]\n",
            "[5, 6, 7, 8, 9]\n",
            "[0, 1, 2, 3, 4, 5, 6, 7, 8, 9]\n",
            "[0, 1]\n"
          ]
        }
      ]
    },
    {
      "cell_type": "code",
      "source": [
        "def makeB2(a):#por lo tanto tiempo(n*n) n cuadrado\n",
        "    n = len(a)\n",
        "    b = [0]*n\n",
        "    for i in range(n)# n iteraciones\n",
        "        s = 0\n",
        "        for j in range(i+1):#tiempo n/2 iteraciones en promedio\n",
        "            s += a[j]\n",
        "        b[i] = s/(i+1)\n",
        "    return b\n",
        "#se llama una comprension\n",
        "makeB2([i for i in range(10)])"
      ],
      "metadata": {
        "colab": {
          "base_uri": "https://localhost:8080/"
        },
        "id": "EuIboi6-M20U",
        "outputId": "b72b6291-4aeb-4be3-afa1-c8af522abd53"
      },
      "execution_count": 42,
      "outputs": [
        {
          "output_type": "execute_result",
          "data": {
            "text/plain": [
              "[0.0, 0.5, 1.0, 1.5, 2.0, 2.5, 3.0, 3.5, 4.0, 4.5]"
            ]
          },
          "metadata": {},
          "execution_count": 42
        }
      ]
    },
    {
      "cell_type": "code",
      "source": [
        "def makeB3(a):\n",
        "    n = len(a)\n",
        "    b = [0]*n\n",
        "    for i in range(n)\n",
        "        b[i] = (b[i-1]*i+a[i])/(i+1)#tiempo 1 /mas eficiente\n",
        "    return b\n",
        "makeB3([i for i in range(10)])"
      ],
      "metadata": {
        "colab": {
          "base_uri": "https://localhost:8080/"
        },
        "id": "Yt2AV7NkNPgU",
        "outputId": "7bb49d35-e486-4b1b-b513-6edf603b475e"
      },
      "execution_count": 43,
      "outputs": [
        {
          "output_type": "execute_result",
          "data": {
            "text/plain": [
              "[0.0, 0.5, 1.0, 1.5, 2.0, 2.5, 3.0, 3.5, 4.0, 4.5]"
            ]
          },
          "metadata": {},
          "execution_count": 43
        }
      ]
    },
    {
      "cell_type": "code",
      "source": [
        "#ejercicio 1 - uso de arreglo\n",
        "import random\n",
        "import time"
      ],
      "metadata": {
        "id": "tDua2MTlPkOm"
      },
      "execution_count": 44,
      "outputs": []
    },
    {
      "cell_type": "code",
      "source": [
        "def genRndList(n):#10 elementos aleaatorios\n",
        "    return [random.randint(1,100) for i in range(n)]\n",
        "\n",
        "genRndList(10)"
      ],
      "metadata": {
        "colab": {
          "base_uri": "https://localhost:8080/"
        },
        "id": "ydSqlWcjPtz7",
        "outputId": "adfd40c2-cc73-4ceb-bde6-99a80e0bb05e"
      },
      "execution_count": 45,
      "outputs": [
        {
          "output_type": "execute_result",
          "data": {
            "text/plain": [
              "[32, 94, 22, 95, 31, 96, 84, 62, 41, 51]"
            ]
          },
          "metadata": {},
          "execution_count": 45
        }
      ]
    },
    {
      "cell_type": "code",
      "source": [
        "#queremos mayor control\n",
        "#(42)\n",
        "random.seed(time.time())\n",
        "genRndList(10)\n",
        "#da numeros distintos"
      ],
      "metadata": {
        "colab": {
          "base_uri": "https://localhost:8080/"
        },
        "id": "4echeeXoQQWc",
        "outputId": "8a1a3853-143d-4639-ebbe-6443bcf6125a"
      },
      "execution_count": 48,
      "outputs": [
        {
          "output_type": "execute_result",
          "data": {
            "text/plain": [
              "[76, 60, 13, 33, 94, 32, 26, 28, 56, 13]"
            ]
          },
          "metadata": {},
          "execution_count": 48
        }
      ]
    },
    {
      "cell_type": "code",
      "source": [
        "#ejercicio2\n",
        "def mostrar(t):\n",
        "    for e in t:\n",
        "        print(e)\n",
        "\n",
        "mostrar(genRndList(10))"
      ],
      "metadata": {
        "colab": {
          "base_uri": "https://localhost:8080/"
        },
        "id": "mIhMQXSGQ3KT",
        "outputId": "4fcbdde4-26bc-430b-aa15-9d54b2708f74"
      },
      "execution_count": 49,
      "outputs": [
        {
          "output_type": "stream",
          "name": "stdout",
          "text": [
            "48\n",
            "13\n",
            "33\n",
            "6\n",
            "3\n",
            "57\n",
            "80\n",
            "98\n",
            "5\n",
            "93\n"
          ]
        }
      ]
    },
    {
      "cell_type": "code",
      "source": [
        "def mostrar(t):\n",
        "    for i,e in enumerate(t):\n",
        "        print(f\"El elemento es la posicion {i} es {e}\")\n",
        "\n",
        "mostrar(genRndList(10))"
      ],
      "metadata": {
        "colab": {
          "base_uri": "https://localhost:8080/"
        },
        "id": "4DjxmqMwRTdw",
        "outputId": "f4ffa1db-c7e6-4e52-b3a6-abeb702ef4c8"
      },
      "execution_count": 50,
      "outputs": [
        {
          "output_type": "stream",
          "name": "stdout",
          "text": [
            "El elemento es la posicion 0 es 88\n",
            "El elemento es la posicion 1 es 22\n",
            "El elemento es la posicion 2 es 95\n",
            "El elemento es la posicion 3 es 59\n",
            "El elemento es la posicion 4 es 96\n",
            "El elemento es la posicion 5 es 86\n",
            "El elemento es la posicion 6 es 82\n",
            "El elemento es la posicion 7 es 57\n",
            "El elemento es la posicion 8 es 91\n",
            "El elemento es la posicion 9 es 50\n"
          ]
        }
      ]
    },
    {
      "cell_type": "code",
      "source": [
        "#ejercicio3\n",
        "def reverseList(t):\n",
        "  n = len(t)\n",
        "  for i in range(n // 2):\n",
        "      t[i], t[n-i-1] = t[n -i-1], t[i] #asignacion multiple\n",
        "\n",
        "a = genRndList(10)\n",
        "print(a)\n",
        "reverseList(a)\n",
        "print(a)"
      ],
      "metadata": {
        "colab": {
          "base_uri": "https://localhost:8080/"
        },
        "id": "IN9DoMqcRyQ0",
        "outputId": "5971b6d4-2d80-4049-d402-1e9472e72339"
      },
      "execution_count": 51,
      "outputs": [
        {
          "output_type": "stream",
          "name": "stdout",
          "text": [
            "[38, 75, 85, 69, 87, 30, 58, 68, 57, 29]\n",
            "[29, 57, 68, 58, 30, 87, 69, 85, 75, 38]\n"
          ]
        }
      ]
    },
    {
      "cell_type": "markdown",
      "source": [
        "Criba de Eratostenes"
      ],
      "metadata": {
        "id": "JdLROcH3Tj_a"
      }
    },
    {
      "cell_type": "code",
      "source": [
        "def sieve(n):\n",
        "    s = [i for i in range(n+1)]#generar todos los nuemros en un arr\n",
        "    s[0] = s[1] = -1#significa q ya esta marcado\n",
        "    primes = []#lista\n",
        "    for i in range(2,n+1): # n\n",
        "        if s[i] != -1:\n",
        "          primes.append(i)#para agregar un elemento a una lista\n",
        "          for j in range (i*2,n+1,i):#hasta n+1 / aumentando de i en i / n/2\n",
        "            s[j] = -1\n",
        "\n",
        "    return s, primes\n",
        "    #criba\n",
        "s,p = sieve(100)\n",
        "print(s)\n",
        "print(p)\n",
        "#todo marca con -1 execto a los primos"
      ],
      "metadata": {
        "colab": {
          "base_uri": "https://localhost:8080/"
        },
        "id": "eDRG5vZdSxeG",
        "outputId": "33f4dd03-5296-4db4-fd22-5b6eaaf31d4a"
      },
      "execution_count": 53,
      "outputs": [
        {
          "output_type": "stream",
          "name": "stdout",
          "text": [
            "[-1, -1, 2, 3, -1, 5, -1, 7, -1, -1, -1, 11, -1, 13, -1, -1, -1, 17, -1, 19, -1, -1, -1, 23, -1, -1, -1, -1, -1, 29, -1, 31, -1, -1, -1, -1, -1, 37, -1, -1, -1, 41, -1, 43, -1, -1, -1, 47, -1, -1, -1, -1, -1, 53, -1, -1, -1, -1, -1, 59, -1, 61, -1, -1, -1, -1, -1, 67, -1, -1, -1, 71, -1, 73, -1, -1, -1, -1, -1, 79, -1, -1, -1, 83, -1, -1, -1, -1, -1, 89, -1, -1, -1, -1, -1, -1, -1, 97, -1, -1, -1]\n",
            "[2, 3, 5, 7, 11, 13, 17, 19, 23, 29, 31, 37, 41, 43, 47, 53, 59, 61, 67, 71, 73, 79, 83, 89, 97]\n"
          ]
        }
      ]
    }
  ]
}